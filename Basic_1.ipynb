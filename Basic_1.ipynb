{
  "nbformat": 4,
  "nbformat_minor": 0,
  "metadata": {
    "colab": {
      "name": "Untitled8.ipynb",
      "provenance": [],
      "collapsed_sections": []
    },
    "kernelspec": {
      "name": "python3",
      "display_name": "Python 3"
    }
  },
  "cells": [
    {
      "cell_type": "code",
      "metadata": {
        "id": "do_WaKZGlzYb",
        "colab_type": "code",
        "colab": {
          "base_uri": "https://localhost:8080/",
          "height": 35
        },
        "outputId": "addb7818-ad28-40cc-81a2-c0bd18feef85"
      },
      "source": [
        "number = 10\n",
        "print(number)"
      ],
      "execution_count": null,
      "outputs": [
        {
          "output_type": "stream",
          "text": [
            "10\n"
          ],
          "name": "stdout"
        }
      ]
    },
    {
      "cell_type": "code",
      "metadata": {
        "id": "8z_YiG-xXA9A",
        "colab_type": "code",
        "colab": {
          "base_uri": "https://localhost:8080/",
          "height": 35
        },
        "outputId": "573dca25-ec0b-4c43-810e-acb8a923e8c8"
      },
      "source": [
        "number_float = 2.4\n",
        "print(number_float)"
      ],
      "execution_count": 1,
      "outputs": [
        {
          "output_type": "stream",
          "text": [
            "2.4\n"
          ],
          "name": "stdout"
        }
      ]
    },
    {
      "cell_type": "code",
      "metadata": {
        "id": "pbDfhH2JXarq",
        "colab_type": "code",
        "colab": {
          "base_uri": "https://localhost:8080/",
          "height": 89
        },
        "outputId": "60a0ba13-592f-4af9-d40f-ab84e3c4cb1a"
      },
      "source": [
        "number1 = 10\n",
        "number2 = 5\n",
        "\n",
        "print(number1 + number2)\n",
        "print(number1 - number2)\n",
        "print(number1 * number2)\n",
        "print(number1 / number2)"
      ],
      "execution_count": 2,
      "outputs": [
        {
          "output_type": "stream",
          "text": [
            "15\n",
            "5\n",
            "50\n",
            "2.0\n"
          ],
          "name": "stdout"
        }
      ]
    },
    {
      "cell_type": "code",
      "metadata": {
        "id": "uiLdrg0XXvq8",
        "colab_type": "code",
        "colab": {
          "base_uri": "https://localhost:8080/",
          "height": 208
        },
        "outputId": "f4ac83de-6777-4144-db8f-f63215fd6714"
      },
      "source": [
        "number1 = 10\n",
        "number2 = 0\n",
        "\n",
        "print(number1/ number2)"
      ],
      "execution_count": 3,
      "outputs": [
        {
          "output_type": "error",
          "ename": "ZeroDivisionError",
          "evalue": "ignored",
          "traceback": [
            "\u001b[0;31m---------------------------------------------------------------------------\u001b[0m",
            "\u001b[0;31mZeroDivisionError\u001b[0m                         Traceback (most recent call last)",
            "\u001b[0;32m<ipython-input-3-9fa19ab5d029>\u001b[0m in \u001b[0;36m<module>\u001b[0;34m()\u001b[0m\n\u001b[1;32m      2\u001b[0m \u001b[0mnumber2\u001b[0m \u001b[0;34m=\u001b[0m \u001b[0;36m0\u001b[0m\u001b[0;34m\u001b[0m\u001b[0;34m\u001b[0m\u001b[0m\n\u001b[1;32m      3\u001b[0m \u001b[0;34m\u001b[0m\u001b[0m\n\u001b[0;32m----> 4\u001b[0;31m \u001b[0mprint\u001b[0m\u001b[0;34m(\u001b[0m\u001b[0mnumber1\u001b[0m\u001b[0;34m/\u001b[0m \u001b[0mnumber2\u001b[0m\u001b[0;34m)\u001b[0m\u001b[0;34m\u001b[0m\u001b[0;34m\u001b[0m\u001b[0m\n\u001b[0m",
            "\u001b[0;31mZeroDivisionError\u001b[0m: division by zero"
          ]
        }
      ]
    },
    {
      "cell_type": "code",
      "metadata": {
        "id": "EiaX9_KPc7co",
        "colab_type": "code",
        "colab": {
          "base_uri": "https://localhost:8080/",
          "height": 179
        },
        "outputId": "7f5ebe51-3b44-4819-98eb-15bcd944e38d"
      },
      "source": [
        "str = \"Life is too short\"\n",
        "\n",
        "print(str.count('o'))\n",
        "# o의 개수를 반환\n",
        "print(str.find('L'))\n",
        "print(str.find('A'))\n",
        "print(str.index('o'))\n",
        "#o가 여러개지만 첫번째 꺼만 반환\n",
        "print(str.join('!!'))\n",
        "#str 사이에 값을 넣어준다.\n",
        "print(str.upper())\n",
        "print(str.lower())\n",
        "print(str.split())\n",
        "print(str.replace('Life','Our Life'))"
      ],
      "execution_count": 19,
      "outputs": [
        {
          "output_type": "stream",
          "text": [
            "3\n",
            "0\n",
            "-1\n",
            "9\n",
            "!Life is too short!\n",
            "LIFE IS TOO SHORT\n",
            "life is too short\n",
            "['Life', 'is', 'too', 'short']\n",
            "Our Life is too short\n"
          ],
          "name": "stdout"
        }
      ]
    },
    {
      "cell_type": "code",
      "metadata": {
        "id": "sp4m3tubX-7h",
        "colab_type": "code",
        "colab": {
          "base_uri": "https://localhost:8080/",
          "height": 125
        },
        "outputId": "e726be3d-a8c4-4d93-8b6d-ce9293033545"
      },
      "source": [
        "string = \"파이썬 정말 쉬운언어입니다.\"\n",
        "print(string + \" 정말입니다!\")\n",
        "print(string * 2)\n",
        "print(len(string))\n",
        "print(string[2])\n",
        "print(string[0:3])\n",
        "print(string[-1])"
      ],
      "execution_count": 9,
      "outputs": [
        {
          "output_type": "stream",
          "text": [
            "파이썬 정말 쉬운언어입니다. 정말입니다!\n",
            "파이썬 정말 쉬운언어입니다.파이썬 정말 쉬운언어입니다.\n",
            "15\n",
            "썬\n",
            "파이썬\n",
            ".\n"
          ],
          "name": "stdout"
        }
      ]
    }
  ]
}